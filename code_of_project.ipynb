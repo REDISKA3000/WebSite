{
 "cells": [
  {
   "cell_type": "code",
   "execution_count": 85,
   "id": "4d5a674a",
   "metadata": {},
   "outputs": [],
   "source": [
    "import pandas as pd\n",
    "import matplotlib.pyplot as plt\n",
    "import math"
   ]
  },
  {
   "cell_type": "raw",
   "id": "3bfcb948",
   "metadata": {},
   "source": [
    "coe_left-time for coe left\n",
    "mileage-driven distane\n",
    "dep(annual depreciation-годовая амортизация)-процесс откладывания средств чтобы приблизительно возместить ущерб(покупка машины)\n",
    "road tax-annual payed tax for using public roads\n",
    "dereg value-discount on utilised(scrapped) or exported car\n",
    "COE-price of COE paid(Certificate of Entitlement)\n",
    "engine cap-engine capacity measured in cubic centimeters(1000cc=1l)\n",
    "curb weight -mass of car\n",
    "The OMV(open market value) is defined as the value assessed by the Singapore Customs, taking into account purchase price, freight, insurance and all other charges incidental to the sale and delivery of the car from country of manufacture to Singapore.\n",
    "The Additional Registration Fee (ARF) is a tax imposed upon registration of a vehicle, it is calculated based on a percentage of the OMV of your vehicle"
   ]
  },
  {
   "cell_type": "code",
   "execution_count": 86,
   "id": "c6b276a7",
   "metadata": {
    "scrolled": true
   },
   "outputs": [
    {
     "data": {
      "text/html": [
       "<div>\n",
       "<style scoped>\n",
       "    .dataframe tbody tr th:only-of-type {\n",
       "        vertical-align: middle;\n",
       "    }\n",
       "\n",
       "    .dataframe tbody tr th {\n",
       "        vertical-align: top;\n",
       "    }\n",
       "\n",
       "    .dataframe thead th {\n",
       "        text-align: right;\n",
       "    }\n",
       "</style>\n",
       "<table border=\"1\" class=\"dataframe\">\n",
       "  <thead>\n",
       "    <tr style=\"text-align: right;\">\n",
       "      <th></th>\n",
       "      <th>Brand</th>\n",
       "      <th>Type</th>\n",
       "      <th>Reg_date</th>\n",
       "      <th>Coe_left</th>\n",
       "      <th>Dep</th>\n",
       "      <th>Mileage</th>\n",
       "      <th>RoadTax</th>\n",
       "      <th>DeregValue</th>\n",
       "      <th>COE</th>\n",
       "      <th>EngineCap</th>\n",
       "      <th>CurbWeight</th>\n",
       "      <th>Manufactured</th>\n",
       "      <th>Transmission</th>\n",
       "      <th>OMV</th>\n",
       "      <th>ARF</th>\n",
       "      <th>Power</th>\n",
       "      <th>NoOfOwners</th>\n",
       "      <th>Price</th>\n",
       "      <th>Stroka</th>\n",
       "    </tr>\n",
       "  </thead>\n",
       "  <tbody>\n",
       "    <tr>\n",
       "      <th>0</th>\n",
       "      <td>BMW 5 Series 520i Highline</td>\n",
       "      <td>Luxury Sedan</td>\n",
       "      <td>28-May-13</td>\n",
       "      <td>1yr 11mths 21days COE left)</td>\n",
       "      <td>15920</td>\n",
       "      <td>N.A</td>\n",
       "      <td>1210</td>\n",
       "      <td>38133</td>\n",
       "      <td>67304</td>\n",
       "      <td>1997</td>\n",
       "      <td>1610</td>\n",
       "      <td>2013</td>\n",
       "      <td>Auto</td>\n",
       "      <td>41566</td>\n",
       "      <td>45193</td>\n",
       "      <td>135</td>\n",
       "      <td>1</td>\n",
       "      <td>54000</td>\n",
       "      <td>NaN</td>\n",
       "    </tr>\n",
       "    <tr>\n",
       "      <th>1</th>\n",
       "      <td>Honda Vezel 1.5A X Honda Sensing</td>\n",
       "      <td>SUV</td>\n",
       "      <td>14-Oct-15</td>\n",
       "      <td>4yrs 4mths 7days COE left)</td>\n",
       "      <td>10310</td>\n",
       "      <td>50000</td>\n",
       "      <td>682</td>\n",
       "      <td>31237</td>\n",
       "      <td>56001</td>\n",
       "      <td>1496</td>\n",
       "      <td>1190</td>\n",
       "      <td>2015</td>\n",
       "      <td>Auto</td>\n",
       "      <td>19775</td>\n",
       "      <td>9775</td>\n",
       "      <td>96</td>\n",
       "      <td>2</td>\n",
       "      <td>49800</td>\n",
       "      <td>NaN</td>\n",
       "    </tr>\n",
       "    <tr>\n",
       "      <th>2</th>\n",
       "      <td>MINI One 1.6A (New 10-yr COE)</td>\n",
       "      <td>Hatchback</td>\n",
       "      <td>7-Oct-11</td>\n",
       "      <td>10yrs  COE left)</td>\n",
       "      <td>6280</td>\n",
       "      <td>110000</td>\n",
       "      <td>742</td>\n",
       "      <td>N.A</td>\n",
       "      <td>N.A</td>\n",
       "      <td>1598</td>\n",
       "      <td>1100</td>\n",
       "      <td>2011</td>\n",
       "      <td>Auto</td>\n",
       "      <td>18180</td>\n",
       "      <td>18180</td>\n",
       "      <td>72</td>\n",
       "      <td>3</td>\n",
       "      <td>62800</td>\n",
       "      <td>NaN</td>\n",
       "    </tr>\n",
       "  </tbody>\n",
       "</table>\n",
       "</div>"
      ],
      "text/plain": [
       "                              Brand          Type   Reg_date  \\\n",
       "0        BMW 5 Series 520i Highline  Luxury Sedan  28-May-13   \n",
       "1  Honda Vezel 1.5A X Honda Sensing           SUV  14-Oct-15   \n",
       "2     MINI One 1.6A (New 10-yr COE)     Hatchback   7-Oct-11   \n",
       "\n",
       "                      Coe_left    Dep Mileage RoadTax DeregValue    COE  \\\n",
       "0  1yr 11mths 21days COE left)  15920     N.A    1210      38133  67304   \n",
       "1   4yrs 4mths 7days COE left)  10310   50000     682      31237  56001   \n",
       "2             10yrs  COE left)   6280  110000     742        N.A    N.A   \n",
       "\n",
       "  EngineCap CurbWeight Manufactured Transmission    OMV    ARF Power  \\\n",
       "0      1997       1610         2013         Auto  41566  45193   135   \n",
       "1      1496       1190         2015         Auto  19775   9775    96   \n",
       "2      1598       1100         2011         Auto  18180  18180    72   \n",
       "\n",
       "  NoOfOwners  Price  Stroka  \n",
       "0          1  54000     NaN  \n",
       "1          2  49800     NaN  \n",
       "2          3  62800     NaN  "
      ]
     },
     "execution_count": 86,
     "metadata": {},
     "output_type": "execute_result"
    }
   ],
   "source": [
    "df = pd.read_csv('SG_usedcar.csv')\n",
    "df.head(3)"
   ]
  },
  {
   "cell_type": "code",
   "execution_count": 88,
   "id": "67a83ea9",
   "metadata": {
    "scrolled": false
   },
   "outputs": [],
   "source": [
    "#df.loc[df['Stroka'].isnull(),'Stroka']=0\n",
    "columns = ['Mileage','Dep','RoadTax','Price','OMV','Power','ARF','Manufactured','EngineCap','COE','DeregValue']\n",
    "for j in columns:\n",
    "    for i in list(df['Type'].unique()):\n",
    "        med = df[(df['Type']==i) & (df[j]!='N.A') & (df[j]!='N.A.')][j].median()\n",
    "        if not(med >0):\n",
    "            med = 0\n",
    "        if df[(df['Type']==i) & ((df[j]=='10yrs COE left)')|(df[j]=='5yrs COE left)'))]['COE'].sum()<=0:\n",
    "            med = df[(df['Type']==i) & ((df['COE']!='N.A')&(df['COE']!='N.A.'))]['COE'].median()\n",
    "        df.loc[(df['Type']==i) & ((df[j]=='N.A') | (df[j]=='N.A.') | (df[j]=='NaN')),j]=int(med)"
   ]
  },
  {
   "cell_type": "code",
   "execution_count": 89,
   "id": "17774045",
   "metadata": {
    "scrolled": false
   },
   "outputs": [
    {
     "data": {
      "text/html": [
       "<div>\n",
       "<style scoped>\n",
       "    .dataframe tbody tr th:only-of-type {\n",
       "        vertical-align: middle;\n",
       "    }\n",
       "\n",
       "    .dataframe tbody tr th {\n",
       "        vertical-align: top;\n",
       "    }\n",
       "\n",
       "    .dataframe thead th {\n",
       "        text-align: right;\n",
       "    }\n",
       "</style>\n",
       "<table border=\"1\" class=\"dataframe\">\n",
       "  <thead>\n",
       "    <tr style=\"text-align: right;\">\n",
       "      <th></th>\n",
       "      <th>Brand</th>\n",
       "      <th>Type</th>\n",
       "      <th>Reg_date</th>\n",
       "      <th>Coe_left</th>\n",
       "      <th>Dep</th>\n",
       "      <th>Mileage</th>\n",
       "      <th>RoadTax</th>\n",
       "      <th>DeregValue</th>\n",
       "      <th>COE</th>\n",
       "      <th>EngineCap</th>\n",
       "      <th>CurbWeight</th>\n",
       "      <th>Manufactured</th>\n",
       "      <th>Transmission</th>\n",
       "      <th>OMV</th>\n",
       "      <th>ARF</th>\n",
       "      <th>Power</th>\n",
       "      <th>NoOfOwners</th>\n",
       "      <th>Price</th>\n",
       "      <th>Stroka</th>\n",
       "    </tr>\n",
       "  </thead>\n",
       "  <tbody>\n",
       "    <tr>\n",
       "      <th>0</th>\n",
       "      <td>BMW 5 Series 520i Highline</td>\n",
       "      <td>Luxury Sedan</td>\n",
       "      <td>28-May-13</td>\n",
       "      <td>1yr 11mths 21days COE left)</td>\n",
       "      <td>15920</td>\n",
       "      <td>50001</td>\n",
       "      <td>1210</td>\n",
       "      <td>38133</td>\n",
       "      <td>67304</td>\n",
       "      <td>1997</td>\n",
       "      <td>1610</td>\n",
       "      <td>2013</td>\n",
       "      <td>Auto</td>\n",
       "      <td>41566</td>\n",
       "      <td>45193</td>\n",
       "      <td>135</td>\n",
       "      <td>1</td>\n",
       "      <td>54000</td>\n",
       "      <td>NaN</td>\n",
       "    </tr>\n",
       "    <tr>\n",
       "      <th>1</th>\n",
       "      <td>Honda Vezel 1.5A X Honda Sensing</td>\n",
       "      <td>SUV</td>\n",
       "      <td>14-Oct-15</td>\n",
       "      <td>4yrs 4mths 7days COE left)</td>\n",
       "      <td>10310</td>\n",
       "      <td>50000</td>\n",
       "      <td>682</td>\n",
       "      <td>31237</td>\n",
       "      <td>56001</td>\n",
       "      <td>1496</td>\n",
       "      <td>1190</td>\n",
       "      <td>2015</td>\n",
       "      <td>Auto</td>\n",
       "      <td>19775</td>\n",
       "      <td>9775</td>\n",
       "      <td>96</td>\n",
       "      <td>2</td>\n",
       "      <td>49800</td>\n",
       "      <td>NaN</td>\n",
       "    </tr>\n",
       "    <tr>\n",
       "      <th>2</th>\n",
       "      <td>MINI One 1.6A (New 10-yr COE)</td>\n",
       "      <td>Hatchback</td>\n",
       "      <td>7-Oct-11</td>\n",
       "      <td>10yrs  COE left)</td>\n",
       "      <td>6280</td>\n",
       "      <td>110000</td>\n",
       "      <td>742</td>\n",
       "      <td>37766</td>\n",
       "      <td>37766</td>\n",
       "      <td>1598</td>\n",
       "      <td>1100</td>\n",
       "      <td>2011</td>\n",
       "      <td>Auto</td>\n",
       "      <td>18180</td>\n",
       "      <td>18180</td>\n",
       "      <td>72</td>\n",
       "      <td>3</td>\n",
       "      <td>62800</td>\n",
       "      <td>NaN</td>\n",
       "    </tr>\n",
       "    <tr>\n",
       "      <th>3</th>\n",
       "      <td>Hyundai Avante 1.6A (COE till 02/2029)</td>\n",
       "      <td>Mid-Sized Sedan</td>\n",
       "      <td>12-Feb-09</td>\n",
       "      <td>7yrs 8mths 5days COE left)</td>\n",
       "      <td>31783</td>\n",
       "      <td>31783</td>\n",
       "      <td>959</td>\n",
       "      <td>31783</td>\n",
       "      <td>25727</td>\n",
       "      <td>1591</td>\n",
       "      <td>1264</td>\n",
       "      <td>2009</td>\n",
       "      <td>Auto</td>\n",
       "      <td>10763</td>\n",
       "      <td>10763</td>\n",
       "      <td>89</td>\n",
       "      <td>3</td>\n",
       "      <td>31783</td>\n",
       "      <td>NaN</td>\n",
       "    </tr>\n",
       "    <tr>\n",
       "      <th>4</th>\n",
       "      <td>Suzuki Swift Sport 1.6M (COE till 12/2022)</td>\n",
       "      <td>Hatchback</td>\n",
       "      <td>28-Dec-07</td>\n",
       "      <td>1yr 6mths 21days COE left)</td>\n",
       "      <td>8210</td>\n",
       "      <td>203000</td>\n",
       "      <td>1030</td>\n",
       "      <td>6656</td>\n",
       "      <td>21349</td>\n",
       "      <td>1586</td>\n",
       "      <td>1060</td>\n",
       "      <td>2007</td>\n",
       "      <td>Manual</td>\n",
       "      <td>12154</td>\n",
       "      <td>13370</td>\n",
       "      <td>92</td>\n",
       "      <td>2</td>\n",
       "      <td>12800</td>\n",
       "      <td>NaN</td>\n",
       "    </tr>\n",
       "  </tbody>\n",
       "</table>\n",
       "</div>"
      ],
      "text/plain": [
       "                                        Brand             Type   Reg_date  \\\n",
       "0                  BMW 5 Series 520i Highline     Luxury Sedan  28-May-13   \n",
       "1            Honda Vezel 1.5A X Honda Sensing              SUV  14-Oct-15   \n",
       "2               MINI One 1.6A (New 10-yr COE)        Hatchback   7-Oct-11   \n",
       "3      Hyundai Avante 1.6A (COE till 02/2029)  Mid-Sized Sedan  12-Feb-09   \n",
       "4  Suzuki Swift Sport 1.6M (COE till 12/2022)        Hatchback  28-Dec-07   \n",
       "\n",
       "                      Coe_left    Dep Mileage RoadTax DeregValue    COE  \\\n",
       "0  1yr 11mths 21days COE left)  15920   50001    1210      38133  67304   \n",
       "1   4yrs 4mths 7days COE left)  10310   50000     682      31237  56001   \n",
       "2             10yrs  COE left)   6280  110000     742      37766  37766   \n",
       "3   7yrs 8mths 5days COE left)  31783   31783     959      31783  25727   \n",
       "4   1yr 6mths 21days COE left)   8210  203000    1030       6656  21349   \n",
       "\n",
       "  EngineCap CurbWeight Manufactured Transmission    OMV    ARF Power  \\\n",
       "0      1997       1610         2013         Auto  41566  45193   135   \n",
       "1      1496       1190         2015         Auto  19775   9775    96   \n",
       "2      1598       1100         2011         Auto  18180  18180    72   \n",
       "3      1591       1264         2009         Auto  10763  10763    89   \n",
       "4      1586       1060         2007       Manual  12154  13370    92   \n",
       "\n",
       "  NoOfOwners  Price  Stroka  \n",
       "0          1  54000     NaN  \n",
       "1          2  49800     NaN  \n",
       "2          3  62800     NaN  \n",
       "3          3  31783     NaN  \n",
       "4          2  12800     NaN  "
      ]
     },
     "execution_count": 89,
     "metadata": {},
     "output_type": "execute_result"
    }
   ],
   "source": [
    "df.head()"
   ]
  },
  {
   "cell_type": "code",
   "execution_count": 90,
   "id": "de92ee3b",
   "metadata": {},
   "outputs": [],
   "source": [
    "df['Coe_left_days'] = df['Coe_left']\n",
    "df= df.reindex(columns=['Brand', 'Type', 'Reg_date', 'Coe_left','Coe_left_days', 'Dep', 'Mileage', 'RoadTax','DeregValue', 'COE', 'EngineCap', 'CurbWeight', 'Manufactured','Transmission', 'OMV', 'ARF', 'Power', 'NoOfOwners', 'Price','Stroka'])\n",
    "def DtoD(i):\n",
    "    i= ' '+i\n",
    "    k = 0 if int(i.find('y'))>=4 or i.find('y')<0 else i[0:i.find('y')]\n",
    "    p = 0 if i.find('m')<0 else i[i.find('m')-2:i.find('m')]\n",
    "    j = 0 if i.find('d')<0 else i[i.find('d')-2:i.find('d')]\n",
    "    return int(k)*365+int(p)*30+int(j)\n",
    "\n",
    "df.loc[(df['Coe_left_days'].isnull()),'Coe_left_days']='0'"
   ]
  },
  {
   "cell_type": "code",
   "execution_count": 91,
   "id": "c1bad829",
   "metadata": {
    "scrolled": true
   },
   "outputs": [],
   "source": [
    "for i in range(0,4411):\n",
    "    df.loc[[i],'Coe_left_days']=DtoD(list(df.loc[[i],'Coe_left_days'])[0])"
   ]
  },
  {
   "cell_type": "code",
   "execution_count": 92,
   "id": "4d0a7109",
   "metadata": {},
   "outputs": [
    {
     "data": {
      "text/html": [
       "<div>\n",
       "<style scoped>\n",
       "    .dataframe tbody tr th:only-of-type {\n",
       "        vertical-align: middle;\n",
       "    }\n",
       "\n",
       "    .dataframe tbody tr th {\n",
       "        vertical-align: top;\n",
       "    }\n",
       "\n",
       "    .dataframe thead th {\n",
       "        text-align: right;\n",
       "    }\n",
       "</style>\n",
       "<table border=\"1\" class=\"dataframe\">\n",
       "  <thead>\n",
       "    <tr style=\"text-align: right;\">\n",
       "      <th></th>\n",
       "      <th>Brand</th>\n",
       "      <th>Type</th>\n",
       "      <th>Reg_date</th>\n",
       "      <th>Coe_left</th>\n",
       "      <th>Coe_left_days</th>\n",
       "      <th>Dep</th>\n",
       "      <th>Mileage</th>\n",
       "      <th>RoadTax</th>\n",
       "      <th>DeregValue</th>\n",
       "      <th>COE</th>\n",
       "      <th>EngineCap</th>\n",
       "      <th>CurbWeight</th>\n",
       "      <th>Manufactured</th>\n",
       "      <th>Transmission</th>\n",
       "      <th>OMV</th>\n",
       "      <th>ARF</th>\n",
       "      <th>Power</th>\n",
       "      <th>NoOfOwners</th>\n",
       "      <th>Price</th>\n",
       "      <th>Stroka</th>\n",
       "    </tr>\n",
       "  </thead>\n",
       "  <tbody>\n",
       "    <tr>\n",
       "      <th>0</th>\n",
       "      <td>BMW 5 Series 520i Highline</td>\n",
       "      <td>Luxury Sedan</td>\n",
       "      <td>28-May-13</td>\n",
       "      <td>1yr 11mths 21days COE left)</td>\n",
       "      <td>716</td>\n",
       "      <td>15920</td>\n",
       "      <td>50001</td>\n",
       "      <td>1210</td>\n",
       "      <td>38133</td>\n",
       "      <td>67304</td>\n",
       "      <td>1997</td>\n",
       "      <td>1610</td>\n",
       "      <td>2013</td>\n",
       "      <td>Auto</td>\n",
       "      <td>41566</td>\n",
       "      <td>45193</td>\n",
       "      <td>135</td>\n",
       "      <td>1</td>\n",
       "      <td>54000</td>\n",
       "      <td>NaN</td>\n",
       "    </tr>\n",
       "    <tr>\n",
       "      <th>1</th>\n",
       "      <td>Honda Vezel 1.5A X Honda Sensing</td>\n",
       "      <td>SUV</td>\n",
       "      <td>14-Oct-15</td>\n",
       "      <td>4yrs 4mths 7days COE left)</td>\n",
       "      <td>1587</td>\n",
       "      <td>10310</td>\n",
       "      <td>50000</td>\n",
       "      <td>682</td>\n",
       "      <td>31237</td>\n",
       "      <td>56001</td>\n",
       "      <td>1496</td>\n",
       "      <td>1190</td>\n",
       "      <td>2015</td>\n",
       "      <td>Auto</td>\n",
       "      <td>19775</td>\n",
       "      <td>9775</td>\n",
       "      <td>96</td>\n",
       "      <td>2</td>\n",
       "      <td>49800</td>\n",
       "      <td>NaN</td>\n",
       "    </tr>\n",
       "    <tr>\n",
       "      <th>2</th>\n",
       "      <td>MINI One 1.6A (New 10-yr COE)</td>\n",
       "      <td>Hatchback</td>\n",
       "      <td>7-Oct-11</td>\n",
       "      <td>10yrs  COE left)</td>\n",
       "      <td>3650</td>\n",
       "      <td>6280</td>\n",
       "      <td>110000</td>\n",
       "      <td>742</td>\n",
       "      <td>37766</td>\n",
       "      <td>37766</td>\n",
       "      <td>1598</td>\n",
       "      <td>1100</td>\n",
       "      <td>2011</td>\n",
       "      <td>Auto</td>\n",
       "      <td>18180</td>\n",
       "      <td>18180</td>\n",
       "      <td>72</td>\n",
       "      <td>3</td>\n",
       "      <td>62800</td>\n",
       "      <td>NaN</td>\n",
       "    </tr>\n",
       "    <tr>\n",
       "      <th>3</th>\n",
       "      <td>Hyundai Avante 1.6A (COE till 02/2029)</td>\n",
       "      <td>Mid-Sized Sedan</td>\n",
       "      <td>12-Feb-09</td>\n",
       "      <td>7yrs 8mths 5days COE left)</td>\n",
       "      <td>2800</td>\n",
       "      <td>31783</td>\n",
       "      <td>31783</td>\n",
       "      <td>959</td>\n",
       "      <td>31783</td>\n",
       "      <td>25727</td>\n",
       "      <td>1591</td>\n",
       "      <td>1264</td>\n",
       "      <td>2009</td>\n",
       "      <td>Auto</td>\n",
       "      <td>10763</td>\n",
       "      <td>10763</td>\n",
       "      <td>89</td>\n",
       "      <td>3</td>\n",
       "      <td>31783</td>\n",
       "      <td>NaN</td>\n",
       "    </tr>\n",
       "    <tr>\n",
       "      <th>4</th>\n",
       "      <td>Suzuki Swift Sport 1.6M (COE till 12/2022)</td>\n",
       "      <td>Hatchback</td>\n",
       "      <td>28-Dec-07</td>\n",
       "      <td>1yr 6mths 21days COE left)</td>\n",
       "      <td>566</td>\n",
       "      <td>8210</td>\n",
       "      <td>203000</td>\n",
       "      <td>1030</td>\n",
       "      <td>6656</td>\n",
       "      <td>21349</td>\n",
       "      <td>1586</td>\n",
       "      <td>1060</td>\n",
       "      <td>2007</td>\n",
       "      <td>Manual</td>\n",
       "      <td>12154</td>\n",
       "      <td>13370</td>\n",
       "      <td>92</td>\n",
       "      <td>2</td>\n",
       "      <td>12800</td>\n",
       "      <td>NaN</td>\n",
       "    </tr>\n",
       "  </tbody>\n",
       "</table>\n",
       "</div>"
      ],
      "text/plain": [
       "                                        Brand             Type   Reg_date  \\\n",
       "0                  BMW 5 Series 520i Highline     Luxury Sedan  28-May-13   \n",
       "1            Honda Vezel 1.5A X Honda Sensing              SUV  14-Oct-15   \n",
       "2               MINI One 1.6A (New 10-yr COE)        Hatchback   7-Oct-11   \n",
       "3      Hyundai Avante 1.6A (COE till 02/2029)  Mid-Sized Sedan  12-Feb-09   \n",
       "4  Suzuki Swift Sport 1.6M (COE till 12/2022)        Hatchback  28-Dec-07   \n",
       "\n",
       "                      Coe_left Coe_left_days    Dep Mileage RoadTax  \\\n",
       "0  1yr 11mths 21days COE left)           716  15920   50001    1210   \n",
       "1   4yrs 4mths 7days COE left)          1587  10310   50000     682   \n",
       "2             10yrs  COE left)          3650   6280  110000     742   \n",
       "3   7yrs 8mths 5days COE left)          2800  31783   31783     959   \n",
       "4   1yr 6mths 21days COE left)           566   8210  203000    1030   \n",
       "\n",
       "  DeregValue    COE EngineCap CurbWeight Manufactured Transmission    OMV  \\\n",
       "0      38133  67304      1997       1610         2013         Auto  41566   \n",
       "1      31237  56001      1496       1190         2015         Auto  19775   \n",
       "2      37766  37766      1598       1100         2011         Auto  18180   \n",
       "3      31783  25727      1591       1264         2009         Auto  10763   \n",
       "4       6656  21349      1586       1060         2007       Manual  12154   \n",
       "\n",
       "     ARF Power NoOfOwners  Price  Stroka  \n",
       "0  45193   135          1  54000     NaN  \n",
       "1   9775    96          2  49800     NaN  \n",
       "2  18180    72          3  62800     NaN  \n",
       "3  10763    89          3  31783     NaN  \n",
       "4  13370    92          2  12800     NaN  "
      ]
     },
     "execution_count": 92,
     "metadata": {},
     "output_type": "execute_result"
    }
   ],
   "source": [
    "df.head()"
   ]
  },
  {
   "cell_type": "code",
   "execution_count": 93,
   "id": "93e80380",
   "metadata": {
    "scrolled": false
   },
   "outputs": [
    {
     "name": "stdout",
     "output_type": "stream",
     "text": [
      "Median Price value: 60787\n",
      " Mean Price value: 81391\n",
      " Standart Deviation Price value:81816\n",
      "Median OMV value: 26763\n",
      " Mean OMV value: 34312\n",
      " Standart Deviation OMV value:34383\n",
      "Median EngineCap value: 1600\n",
      " Mean EngineCap value: 2020\n",
      " Standart Deviation EngineCap value:1350\n"
     ]
    },
    {
     "data": {
      "image/png": "[encoded data removed]",
      "text/plain": [
       "<Figure size 432x288 with 1 Axes>"
      ]
     },
     "metadata": {
      "needs_background": "light"
     },
     "output_type": "display_data"
    }
   ],
   "source": [
    "import numpy as np\n",
    "l = []\n",
    "for i in ['Price','OMV','EngineCap']:\n",
    "    df[i] = list(map(lambda x:int(x),list(df[i].values)))\n",
    "    med = int(df[i].median())\n",
    "    mean = df[i].sum()//len(df[i].values)\n",
    "    stdv = int(df[i].std())\n",
    "    l.append([med,mean,stdv])\n",
    "    print('Median {0} value: {1}\\n Mean {0} value: {2}\\n Standart Deviation {0} value:{3}'.format(i,med,mean,stdv))\n",
    "fig, ax = plt.subplots()\n",
    "width = 0.2\n",
    "x = np.arange(len(l))\n",
    "data_std = [[1, 2, 1, 2], [1, 2, 1, 2], [1, 2, 1, 2], \n",
    "            [1, 2, 1, 2], [1, 2, 1, 2], [1, 2, 1, 2]] \n",
    "\n",
    "\n",
    "ax.bar(x, [l[0][0],l[1][0],l[2][0]], width, color='red', label='Median value', yerr=data_std[0][0])\n",
    "ax.bar(x + width, [l[0][1],l[1][1],l[2][1]], width, color='green', label='Mean value', yerr=data_std[0][1])\n",
    "ax.bar(x + (2 * width), [l[0][2],l[1][2],l[2][2]], width, color='blue', label='Standard deviation value', yerr=data_std[0][2])\n",
    "\n",
    "x_labels=['Price','OMV','EngineCap']\n",
    "ax.set_xticks(x + width + width/2)\n",
    "ax.set_xticklabels(x_labels)\n",
    "ax.legend()\n",
    "plt.show()"
   ]
  },
  {
   "cell_type": "code",
   "execution_count": 94,
   "id": "9c803897",
   "metadata": {},
   "outputs": [
    {
     "data": {
      "image/png": "[encoded data removed]",
      "text/plain": [
       "<Figure size 720x432 with 1 Axes>"
      ]
     },
     "metadata": {
      "needs_background": "light"
     },
     "output_type": "display_data"
    }
   ],
   "source": [
    "l = list(df['Brand'].value_counts())[:15]\n",
    "l1 = list(df['Brand'].value_counts().reset_index()['index'])[:15]\n",
    "fig, ax = plt.subplots()\n",
    "\n",
    "ax.barh(l1, l)\n",
    "fig.set_figwidth(10) \n",
    "fig.set_figheight(6)  "
   ]
  },
  {
   "cell_type": "code",
   "execution_count": 95,
   "id": "d0ffa2be",
   "metadata": {},
   "outputs": [
    {
     "data": {
      "image/png": "[encoded data removed]",
      "text/plain": [
       "<Figure size 720x432 with 1 Axes>"
      ]
     },
     "metadata": {
      "needs_background": "light"
     },
     "output_type": "display_data"
    }
   ],
   "source": [
    "l1 = list(df['Type'].value_counts())\n",
    "l = list(df['Type'].value_counts().reset_index()['index'])\n",
    "plt.figure(figsize=[10,6])\n",
    "plt.barh(l,l1)\n",
    "plt.show()"
   ]
  },
  {
   "cell_type": "code",
   "execution_count": 96,
   "id": "a9446e53",
   "metadata": {},
   "outputs": [
    {
     "data": {
      "image/png": "[encoded data removed]",
      "text/plain": [
       "<Figure size 432x288 with 1 Axes>"
      ]
     },
     "metadata": {
      "needs_background": "light"
     },
     "output_type": "display_data"
    }
   ],
   "source": [
    "fig,ax=plt.subplots()\n",
    "ax.boxplot(df['Coe_left_days'].values)\n",
    "ax.set_xlabel('Boxplot')\n",
    "ax.set_ylabel('Days')\n",
    "plt.show()"
   ]
  },
  {
   "cell_type": "code",
   "execution_count": 97,
   "id": "e4890f01",
   "metadata": {},
   "outputs": [
    {
     "data": {
      "image/png": "[encoded data removed]",
      "text/plain": [
       "<Figure size 432x288 with 1 Axes>"
      ]
     },
     "metadata": {},
     "output_type": "display_data"
    }
   ],
   "source": [
    "l = df[df['NoOfOwners']!='N.A']['NoOfOwners'].value_counts()\n",
    "k= df[df['NoOfOwners']!='N.A']['NoOfOwners'].count()\n",
    "l = [l[0],l[1],l[2],l[3:].sum()]\n",
    "owners=['1 owner-'+str(int(l[0]/k*100))+'%','2 owners-'+str(int(l[1]/k*100))+'%','3 owners-'+str(int(l[2]/k*100))+'%','More than 4 owners-'+str(int(l[3]/k*100))+'%']\n",
    "plt.pie(l,labels=owners)\n",
    "plt.show()"
   ]
  },
  {
   "cell_type": "code",
   "execution_count": 98,
   "id": "1d10bcc2",
   "metadata": {
    "scrolled": false
   },
   "outputs": [
    {
     "data": {
      "image/png": "[encoded data removed]",
      "text/plain": [
       "<Figure size 720x432 with 1 Axes>"
      ]
     },
     "metadata": {
      "needs_background": "light"
     },
     "output_type": "display_data"
    }
   ],
   "source": [
    "df['OMV'] = list(map(lambda x:int(x),list(df['OMV'].values)))\n",
    "df['ARF'] = list(map(lambda x:int(x),list(df['ARF'].values)))\n",
    "x= df.sort_values('OMV')['OMV'].values\n",
    "y=df.sort_values('OMV')['ARF'].values\n",
    "\n",
    "fig, ax=plt.subplots(figsize=[10,6])\n",
    "\n",
    "ax.plot(x[::10],y[::10])\n",
    "ax.set_xlabel(\"OMV\", fontsize=15)\n",
    "ax.set_ylabel(\"ARF\", fontsize=15)\n",
    "plt.show()"
   ]
  },
  {
   "cell_type": "code",
   "execution_count": 101,
   "id": "614d446f",
   "metadata": {},
   "outputs": [
    {
     "data": {
      "image/png": "[encoded data removed]",
      "text/plain": [
       "<Figure size 576x288 with 1 Axes>"
      ]
     },
     "metadata": {
      "needs_background": "light"
     },
     "output_type": "display_data"
    }
   ],
   "source": [
    "df['Dep'] = list(map(lambda x:int(x),list(df['Dep'].values)))\n",
    "df['Price'] = list(map(lambda x:int(x),list(df['Price'].values)))\n",
    "df['Dep%']=list(map(lambda x,y: int(x/y*100),df['Dep'].values,df['Price'].values))#Dep% - percentage of Dep from Price\n",
    "df = df.reindex(columns=['Brand', 'Type', 'Reg_date', 'Coe_left','Coe_left_days', 'Dep','Dep%', 'Mileage', 'RoadTax','DeregValue', 'COE', 'EngineCap', 'CurbWeight', 'Manufactured','Transmission', 'OMV', 'ARF', 'Power', 'NoOfOwners', 'Price','Stroka'])\n",
    "x = df.sort_values('Coe_left_days')['Coe_left_days'].values[::30]\n",
    "y = df.sort_values('Coe_left_days')['Dep%'].values[::30]\n",
    "fig, ax=plt.subplots(figsize=[8,4])\n",
    "\n",
    "ax.scatter(x,y)\n",
    "ax.set_xlabel(\"Coe_left_days\", fontsize=12)\n",
    "ax.set_ylabel(\"Dep%\", fontsize=12)\n",
    "plt.show()"
   ]
  },
  {
   "cell_type": "code",
   "execution_count": null,
   "id": "58cde311",
   "metadata": {},
   "outputs": [],
   "source": []
  }
 ],
 "metadata": {
  "kernelspec": {
   "display_name": "Python 3 (ipykernel)",
   "language": "python",
   "name": "python3"
  },
  "language_info": {
   "codemirror_mode": {
    "name": "ipython",
    "version": 3
   },
   "file_extension": ".py",
   "mimetype": "text/x-python",
   "name": "python",
   "nbconvert_exporter": "python",
   "pygments_lexer": "ipython3",
   "version": "3.9.9"
  }
 },
 "nbformat": 4,
 "nbformat_minor": 5
}
